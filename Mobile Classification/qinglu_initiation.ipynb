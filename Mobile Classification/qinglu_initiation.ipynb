{
 "cells": [
  {
   "cell_type": "markdown",
   "id": "84fe5b5d",
   "metadata": {},
   "source": [
    "Several issues:\n",
    "1. test.csv file does not have ground-truth (price range in test.csv file). So I split train.csv file into train and test data in 0.8:0.2 ratio. \n",
    "2. Should we normalize the data for columns (data type of numerical type) (not binary (0, 1))? z-score normalization. min_max normalization? \n",
    "3. I did agglomerate cluster, kmeans++ (used from my homework 2), decisionTree learned from online course.\n",
    "4. Could someone do OPTICS/DBSCAN? i think it is possible?\n",
    "5. f1 score: I am not sure if the average type is micro, macro or weighted. I chose micro. \n",
    "5. Any other idea? Write-up and other method we can add-on?\n",
    "\n",
    "This is preliminary start. I haven't looked into patterns. \n",
    "\n"
   ]
  },
  {
   "cell_type": "code",
   "execution_count": null,
   "id": "adc6813d",
   "metadata": {},
   "outputs": [
    {
     "name": "stdout",
     "output_type": "stream",
     "text": [
      "pandas version:  1.3.5\n",
      "numpy version:  1.21.2\n"
     ]
    }
   ],
   "source": [
    "import pandas as pd\n",
    "import numpy as np\n",
    "\n",
    "print(\"pandas version: \", pd.__version__)\n",
    "print(\"numpy version: \", np.__version__)"
   ]
  },
  {
   "cell_type": "code",
   "execution_count": 2,
   "id": "b13c4421",
   "metadata": {},
   "outputs": [
    {
     "name": "stdout",
     "output_type": "stream",
     "text": [
      "(1000, 21)\n",
      "(2000, 21)\n"
     ]
    }
   ],
   "source": [
    "test_data = pd.read_csv(\"test.csv\")\n",
    "train_data = pd.read_csv(\"train.csv\")\n",
    "print(test_data.shape)\n",
    "print(train_data.shape)"
   ]
  },
  {
   "cell_type": "markdown",
   "id": "c8c81445",
   "metadata": {},
   "source": [
    "Print out description of train data and test data to check validity of data. Check data to ensure that there is missing value. "
   ]
  },
  {
   "cell_type": "code",
   "execution_count": 35,
   "id": "620e6d97",
   "metadata": {},
   "outputs": [
    {
     "name": "stdout",
     "output_type": "stream",
     "text": [
      "                id  battery_power         blue  clock_speed     dual_sim  \\\n",
      "count  1000.000000    1000.000000  1000.000000  1000.000000  1000.000000   \n",
      "mean    500.500000    1248.510000     0.516000     1.540900     0.517000   \n",
      "std     288.819436     432.458227     0.499994     0.829268     0.499961   \n",
      "min       1.000000     500.000000     0.000000     0.500000     0.000000   \n",
      "25%     250.750000     895.000000     0.000000     0.700000     0.000000   \n",
      "50%     500.500000    1246.500000     1.000000     1.500000     1.000000   \n",
      "75%     750.250000    1629.250000     1.000000     2.300000     1.000000   \n",
      "max    1000.000000    1999.000000     1.000000     3.000000     1.000000   \n",
      "\n",
      "                fc       four_g   int_memory        m_dep   mobile_wt  ...  \\\n",
      "count  1000.000000  1000.000000  1000.000000  1000.000000  1000.00000  ...   \n",
      "mean      4.593000     0.487000    33.652000     0.517500   139.51100  ...   \n",
      "std       4.463325     0.500081    18.128694     0.280861    34.85155  ...   \n",
      "min       0.000000     0.000000     2.000000     0.100000    80.00000  ...   \n",
      "25%       1.000000     0.000000    18.000000     0.300000   109.75000  ...   \n",
      "50%       3.000000     0.000000    34.500000     0.500000   139.00000  ...   \n",
      "75%       7.000000     1.000000    49.000000     0.800000   170.00000  ...   \n",
      "max      19.000000     1.000000    64.000000     1.000000   200.00000  ...   \n",
      "\n",
      "                pc    px_height     px_width          ram         sc_h  \\\n",
      "count  1000.000000  1000.000000  1000.000000  1000.000000  1000.000000   \n",
      "mean     10.054000   627.121000  1239.774000  2138.998000    11.995000   \n",
      "std       6.095099   432.929699   439.670981  1088.092278     4.320607   \n",
      "min       0.000000     0.000000   501.000000   263.000000     5.000000   \n",
      "25%       5.000000   263.750000   831.750000  1237.250000     8.000000   \n",
      "50%      10.000000   564.500000  1250.000000  2153.500000    12.000000   \n",
      "75%      16.000000   903.000000  1637.750000  3065.500000    16.000000   \n",
      "max      20.000000  1907.000000  1998.000000  3989.000000    19.000000   \n",
      "\n",
      "              sc_w    talk_time      three_g  touch_screen         wifi  \n",
      "count  1000.000000  1000.000000  1000.000000    1000.00000  1000.000000  \n",
      "mean      5.316000    11.085000     0.756000       0.50000     0.507000  \n",
      "std       4.240062     5.497636     0.429708       0.50025     0.500201  \n",
      "min       0.000000     2.000000     0.000000       0.00000     0.000000  \n",
      "25%       2.000000     6.750000     1.000000       0.00000     0.000000  \n",
      "50%       5.000000    11.000000     1.000000       0.50000     1.000000  \n",
      "75%       8.000000    16.000000     1.000000       1.00000     1.000000  \n",
      "max      18.000000    20.000000     1.000000       1.00000     1.000000  \n",
      "\n",
      "[8 rows x 21 columns]\n"
     ]
    }
   ],
   "source": [
    "print(test_data.describe())\n",
    "# issue of test_data is that it does not have ground truth column. no price range column. "
   ]
  },
  {
   "cell_type": "code",
   "execution_count": 34,
   "id": "5eaee0fd",
   "metadata": {},
   "outputs": [
    {
     "name": "stdout",
     "output_type": "stream",
     "text": [
      "       battery_power       blue  clock_speed     dual_sim           fc  \\\n",
      "count    2000.000000  2000.0000  2000.000000  2000.000000  2000.000000   \n",
      "mean     1238.518500     0.4950     1.522250     0.509500     4.309500   \n",
      "std       439.418206     0.5001     0.816004     0.500035     4.341444   \n",
      "min       501.000000     0.0000     0.500000     0.000000     0.000000   \n",
      "25%       851.750000     0.0000     0.700000     0.000000     1.000000   \n",
      "50%      1226.000000     0.0000     1.500000     1.000000     3.000000   \n",
      "75%      1615.250000     1.0000     2.200000     1.000000     7.000000   \n",
      "max      1998.000000     1.0000     3.000000     1.000000    19.000000   \n",
      "\n",
      "            four_g   int_memory        m_dep    mobile_wt      n_cores  ...  \\\n",
      "count  2000.000000  2000.000000  2000.000000  2000.000000  2000.000000  ...   \n",
      "mean      0.521500    32.046500     0.501750   140.249000     4.520500  ...   \n",
      "std       0.499662    18.145715     0.288416    35.399655     2.287837  ...   \n",
      "min       0.000000     2.000000     0.100000    80.000000     1.000000  ...   \n",
      "25%       0.000000    16.000000     0.200000   109.000000     3.000000  ...   \n",
      "50%       1.000000    32.000000     0.500000   141.000000     4.000000  ...   \n",
      "75%       1.000000    48.000000     0.800000   170.000000     7.000000  ...   \n",
      "max       1.000000    64.000000     1.000000   200.000000     8.000000  ...   \n",
      "\n",
      "         px_height     px_width          ram         sc_h         sc_w  \\\n",
      "count  2000.000000  2000.000000  2000.000000  2000.000000  2000.000000   \n",
      "mean    645.108000  1251.515500  2124.213000    12.306500     5.767000   \n",
      "std     443.780811   432.199447  1084.732044     4.213245     4.356398   \n",
      "min       0.000000   500.000000   256.000000     5.000000     0.000000   \n",
      "25%     282.750000   874.750000  1207.500000     9.000000     2.000000   \n",
      "50%     564.000000  1247.000000  2146.500000    12.000000     5.000000   \n",
      "75%     947.250000  1633.000000  3064.500000    16.000000     9.000000   \n",
      "max    1960.000000  1998.000000  3998.000000    19.000000    18.000000   \n",
      "\n",
      "         talk_time      three_g  touch_screen         wifi  price_range  \n",
      "count  2000.000000  2000.000000   2000.000000  2000.000000  2000.000000  \n",
      "mean     11.011000     0.761500      0.503000     0.507000     1.500000  \n",
      "std       5.463955     0.426273      0.500116     0.500076     1.118314  \n",
      "min       2.000000     0.000000      0.000000     0.000000     0.000000  \n",
      "25%       6.000000     1.000000      0.000000     0.000000     0.750000  \n",
      "50%      11.000000     1.000000      1.000000     1.000000     1.500000  \n",
      "75%      16.000000     1.000000      1.000000     1.000000     2.250000  \n",
      "max      20.000000     1.000000      1.000000     1.000000     3.000000  \n",
      "\n",
      "[8 rows x 21 columns]\n"
     ]
    }
   ],
   "source": [
    "print(train_data.describe())"
   ]
  },
  {
   "cell_type": "markdown",
   "id": "9250737e",
   "metadata": {},
   "source": [
    "Check if there is duplicate row in test data and train data. "
   ]
  },
  {
   "cell_type": "code",
   "execution_count": 18,
   "id": "de5f509f",
   "metadata": {},
   "outputs": [
    {
     "name": "stdout",
     "output_type": "stream",
     "text": [
      "There is no duplicate value in test data. \n"
     ]
    }
   ],
   "source": [
    "res = True\n",
    "for i in test_data.duplicated():\n",
    "    if i:\n",
    "        print(\"row i:\", i, \"is duplicate row\")\n",
    "        res = False\n",
    "\n",
    "if res:\n",
    "    print(\"There is no duplicate value in test data. \")\n"
   ]
  },
  {
   "cell_type": "code",
   "execution_count": 19,
   "id": "276838d4",
   "metadata": {},
   "outputs": [
    {
     "name": "stdout",
     "output_type": "stream",
     "text": [
      "There is no duplicate value in train data. \n"
     ]
    }
   ],
   "source": [
    "res = True\n",
    "for i in train_data.duplicated():\n",
    "    if i:\n",
    "        print(\"row i:\", i, \"is duplicate row\")\n",
    "        res = False\n",
    "\n",
    "if res:\n",
    "    print(\"There is no duplicate value in train data. \")\n"
   ]
  },
  {
   "cell_type": "markdown",
   "id": "050b41ab",
   "metadata": {},
   "source": [
    "Machine learning model from codewithmosh.com. password protected. \n",
    "reference: https://codewithmosh.com/courses/enrolled/417695\n"
   ]
  },
  {
   "cell_type": "code",
   "execution_count": 50,
   "id": "a3cf5341",
   "metadata": {},
   "outputs": [
    {
     "name": "stdout",
     "output_type": "stream",
     "text": [
      "sklearn version:  1.0.2\n"
     ]
    },
    {
     "data": {
      "text/plain": [
       "DecisionTreeClassifier()"
      ]
     },
     "execution_count": 50,
     "metadata": {},
     "output_type": "execute_result"
    }
   ],
   "source": [
    "from sklearn.tree import DecisionTreeClassifier\n",
    "from sklearn.model_selection import train_test_split\n",
    "import sklearn\n",
    "print(\"sklearn version: \", sklearn.__version__)\n",
    "\n",
    "model = DecisionTreeClassifier()\n",
    "X = train_data.drop(columns=['price_range'])\n",
    "Y = train_data['price_range']\n",
    "X_train, X_test, Y_train, Y_test = train_test_split(X, Y, test_size=0.2)\n",
    "model.fit(X_train, Y_train)\n",
    "\n"
   ]
  },
  {
   "cell_type": "code",
   "execution_count": 46,
   "id": "4900abeb",
   "metadata": {},
   "outputs": [
    {
     "data": {
      "text/plain": [
       "['decision_tree_mobile_phone.joblib']"
      ]
     },
     "execution_count": 46,
     "metadata": {},
     "output_type": "execute_result"
    }
   ],
   "source": [
    "# Machine learning model from codewithmosh.com. password protected. \n",
    "# reference: https://codewithmosh.com/courses/enrolled/417695\n",
    "\n",
    "import joblib\n",
    "joblib.dump(model,\"decision_tree_mobile_phone.joblib\")\n",
    "\n"
   ]
  },
  {
   "cell_type": "code",
   "execution_count": 47,
   "id": "0340ed51",
   "metadata": {},
   "outputs": [],
   "source": [
    "model = joblib.load(\"decision_tree_mobile_phone.joblib\")\n",
    "predictions = model.predict(X_test)"
   ]
  },
  {
   "cell_type": "code",
   "execution_count": 48,
   "id": "b4b5ea75",
   "metadata": {},
   "outputs": [
    {
     "name": "stdout",
     "output_type": "stream",
     "text": [
      "f1 score of decision tree:  0.8425\n"
     ]
    }
   ],
   "source": [
    "# f-measure reference\n",
    "# https://scikit-learn.org/stable/modules/generated/sklearn.metrics.f1_score.html\n",
    "\n",
    "from sklearn.metrics import f1_score\n",
    "f1_score_decision_tree = f1_score(Y_test,predictions,average = 'micro')  # options include micro, marco, weighted. \n",
    "print('f1 score of decision tree: ', f1_score_decision_tree)"
   ]
  },
  {
   "cell_type": "markdown",
   "id": "ff218bdd",
   "metadata": {},
   "source": [
    "price range: <br>\n",
    "0: low cost  <br>\n",
    "1: medium cost  <br>\n",
    "2: high cost  <br>\n",
    "3: very high cost  <br>\n",
    "cluster number is 4\n"
   ]
  },
  {
   "cell_type": "code",
   "execution_count": 52,
   "id": "9979585b",
   "metadata": {},
   "outputs": [],
   "source": [
    "# agglomerate cluster (n = 4)\n",
    "from sklearn.cluster import AgglomerativeClustering as ac"
   ]
  },
  {
   "cell_type": "code",
   "execution_count": 55,
   "id": "af2f2f43",
   "metadata": {},
   "outputs": [
    {
     "name": "stdout",
     "output_type": "stream",
     "text": [
      "f1 score of single link:  0.249\n"
     ]
    }
   ],
   "source": [
    "# single link\n",
    "prediction_single_link = ac(n_clusters=4,linkage='single').fit_predict(X)\n",
    "f1_score_single_link = f1_score(Y, prediction_single_link, average = 'micro')\n",
    "print('f1 score of single link: ', f1_score_single_link)"
   ]
  },
  {
   "cell_type": "markdown",
   "id": "9a075f1c",
   "metadata": {},
   "source": [
    "why the F1 score is only 0.249??\n",
    "Should we normalize the data? on values not binary (0 or 1). "
   ]
  },
  {
   "cell_type": "code",
   "execution_count": 57,
   "id": "ca3ebc05",
   "metadata": {},
   "outputs": [
    {
     "name": "stdout",
     "output_type": "stream",
     "text": [
      "f1 score of complete link:  0.2445\n"
     ]
    }
   ],
   "source": [
    "# complete link\n",
    "prediction_complete_link = ac(n_clusters=4,linkage='complete').fit_predict(X)\n",
    "f1_score_complete_link = f1_score(Y, prediction_complete_link, average = 'micro')\n",
    "print('f1 score of complete link: ', f1_score_complete_link)"
   ]
  },
  {
   "cell_type": "code",
   "execution_count": null,
   "id": "e23a86fa",
   "metadata": {},
   "outputs": [],
   "source": []
  },
  {
   "cell_type": "code",
   "execution_count": null,
   "id": "bebd857d",
   "metadata": {},
   "outputs": [],
   "source": []
  },
  {
   "cell_type": "code",
   "execution_count": null,
   "id": "b5c34b33",
   "metadata": {},
   "outputs": [],
   "source": [
    "# k-means++ (cluster n = 4)"
   ]
  },
  {
   "cell_type": "code",
   "execution_count": 59,
   "id": "70e618f9",
   "metadata": {},
   "outputs": [],
   "source": [
    "from sklearn.cluster import KMeans"
   ]
  },
  {
   "cell_type": "markdown",
   "id": "ae6bc16f",
   "metadata": {},
   "source": [
    "Kmeans study on unnormalized data:"
   ]
  },
  {
   "cell_type": "code",
   "execution_count": 61,
   "id": "c3511dd2",
   "metadata": {},
   "outputs": [
    {
     "name": "stdout",
     "output_type": "stream",
     "text": [
      "f1 score of kmeans:  0.3695\n"
     ]
    }
   ],
   "source": [
    "predictions_kmeans = KMeans(n_clusters=4).fit_predict(X)\n",
    "f1_score_kmeans = f1_score(Y, predictions_kmeans, average = 'micro')\n",
    "print('f1 score of kmeans: ', f1_score_kmeans)"
   ]
  },
  {
   "cell_type": "code",
   "execution_count": null,
   "id": "7fd64fa7",
   "metadata": {},
   "outputs": [],
   "source": []
  },
  {
   "cell_type": "code",
   "execution_count": null,
   "id": "cdb61c5b",
   "metadata": {},
   "outputs": [],
   "source": [
    "# DBSCAN/OPTICS\n",
    "# I did DBSCAN/OPTICS manually in the previous homework so I do not have code with me. \n"
   ]
  },
  {
   "cell_type": "code",
   "execution_count": null,
   "id": "ef8ad8ac",
   "metadata": {},
   "outputs": [],
   "source": []
  },
  {
   "cell_type": "code",
   "execution_count": null,
   "id": "c04410d7",
   "metadata": {},
   "outputs": [],
   "source": []
  },
  {
   "cell_type": "code",
   "execution_count": null,
   "id": "494e0d64",
   "metadata": {},
   "outputs": [],
   "source": []
  }
 ],
 "metadata": {
  "kernelspec": {
   "display_name": "Python 3",
   "language": "python",
   "name": "python3"
  },
  "language_info": {
   "codemirror_mode": {
    "name": "ipython",
    "version": 3
   },
   "file_extension": ".py",
   "mimetype": "text/x-python",
   "name": "python",
   "nbconvert_exporter": "python",
   "pygments_lexer": "ipython3",
   "version": "3.7.0"
  }
 },
 "nbformat": 4,
 "nbformat_minor": 5
}
